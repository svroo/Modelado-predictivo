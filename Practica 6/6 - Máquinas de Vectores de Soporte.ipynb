{
 "cells": [
  {
   "cell_type": "code",
   "execution_count": 1,
   "metadata": {},
   "outputs": [],
   "source": [
    "# Execute if necessary\n",
    "# %%capture\n",
    "# !pip install numpy seaborn matplotlib pandas openml"
   ]
  },
  {
   "cell_type": "code",
   "execution_count": 2,
   "metadata": {},
   "outputs": [],
   "source": [
    "import numpy as np\n",
    "import seaborn as sns\n",
    "import matplotlib.pyplot as plt\n",
    "import pandas as pd\n",
    "from typing import Dict, Tuple, Union, List\n",
    "import openml\n",
    "import sklearn\n",
    "np.random.seed(42)"
   ]
  },
  {
   "attachments": {},
   "cell_type": "markdown",
   "metadata": {},
   "source": [
    "# Práctica 6: Máquinas de Vectores de Soporte"
   ]
  },
  {
   "attachments": {},
   "cell_type": "markdown",
   "metadata": {},
   "source": [
    "__Instrucciones__: A continuación hay una lista de funciones que debe implementar o tareas que debe desarrollar. La descripción de cada una de ellas se encuentra en la definición de cada una de las funciones.\n",
    "\n",
    "La entrega de la práctica será en la siguiente sesión a menos que la indicación sea otra. La revisión iniciará al iniciar la sesión y únicamente podrá ser evaluada durante la duración de la sesión."
   ]
  },
  {
   "attachments": {},
   "cell_type": "markdown",
   "metadata": {},
   "source": [
    "## Asignación 1\n",
    "\n",
    "Genera un dataset de clasificación binaria $\\pm1$, de veinte instancias, aleatorio, de dos características, que sea linealmente separable. Grafique el dataset generado y coloree los puntos deacuerdo a su etiqueta."
   ]
  },
  {
   "cell_type": "code",
   "execution_count": null,
   "metadata": {},
   "outputs": [],
   "source": [
    "def generate_data(\n",
    "    n_dims: int=2,\n",
    "    n_samples: int=20,\n",
    "    distribution: str = 'uniform',\n",
    "    parametros: dict[str, float] = {'low': 0, 'high': 20}\n",
    ") -> np.array:\n",
    "    \"\"\"\n",
    "    Descripción:\n",
    "    Esta funcion genera datos artificiales muestreados de una distribución de probabilidad especificada.\n",
    "    \n",
    "    Entradas:\n",
    "    - n_dims: Número de dimensiones (características) que contendrá cada ejemplo \n",
    "    - n_samples: Número de muestreos (ejemplos) que deberán ser generados\n",
    "    - from_distribution: Distribución de la que deberán ser muestreados los puntos, \"normal\" o \"uniform\"   \n",
    "    - distribution_params: Parámetros para la distribución de la que serán muestradas los valores.\n",
    "        \"uniform\": {\n",
    "            \"low\": El número mínimo que puede ser muestreado\n",
    "            \"high\": El número máximo que puede ser muestreado\n",
    "            }\n",
    "        \"normal\": {\n",
    "            \"mean\": La media que tendrá la distribución normal\n",
    "            \"std\": La desviación estándar de la distribución normal\n",
    "            }\n",
    "            \n",
    "    Salidas:\n",
    "    - Un arreglo de numpys muestreado de la distribución seleccionada con dimensiones (n_samples, n_dims)\n",
    "    \"\"\"\n",
    "    # examples = np.random((n_samples, n_dims))\n",
    "    np.random.seed(1509345)\n",
    "\n",
    "    # CÓDIGO AQUÍ\n",
    "\n",
    "    if distribution == \"uniform\":\n",
    "        low = parametros.get(\"low\", 0)\n",
    "        high = parametros.get(\"high\", 1)\n",
    "        examples = np.random.uniform(low, high, size=(n_samples, n_dims))\n",
    "\n",
    "    elif distribution == \"normal\":\n",
    "        mean = parametros.get(\"mean\", 0)\n",
    "        std = parametros.get(\"std\", 1)\n",
    "        examples = np.random.normal(mean, std, size=(n_samples, n_dims))\n",
    "\n",
    "    return examples\n"
   ]
  },
  {
   "cell_type": "code",
   "execution_count": null,
   "metadata": {},
   "outputs": [
    {
     "data": {
      "image/png": "[encoded data removed]",
      "text/plain": [
       "<Figure size 1080x360 with 2 Axes>"
      ]
     },
     "metadata": {
      "needs_background": "light"
     },
     "output_type": "display_data"
    }
   ],
   "source": [
    "uniform = generate_data()\n",
    "\n",
    "normal = generate_data(\n",
    "    distribution=\"normal\", \n",
    "    parametros={\"mean\": 3., \"std\": 2.}\n",
    ")\n",
    "\n",
    "fig, axs = plt.subplots(ncols= 2, figsize =(15,5))\n",
    "axs[0].set_title('Datos uniformes')\n",
    "axs[1].set_title('Datos normales')\n",
    "a = sns.scatterplot(x = uniform[:, 0], y= uniform[:, 1], ax=axs[0])\n",
    "b = sns.scatterplot(x=normal[:, 0], y=uniform[:,1], ax=axs[1])"
   ]
  },
  {
   "cell_type": "code",
   "execution_count": null,
   "metadata": {},
   "outputs": [],
   "source": [
    "def label_data(\n",
    "    data: np.array,\n",
    "    model: np.array = None\n",
    ") -> np.array:\n",
    "    \"\"\"\n",
    "    Descripción:\n",
    "    Esta funcion genera el etiquetado de datos artificiales de acuerdo a un modelo generado. \n",
    "    En caso de no ser recibido como parámetro, el modelo debe ser generado aleatoriamente de \n",
    "    una distribución normal con media 0 y varianza 1.\n",
    "    \n",
    "    Entradas:\n",
    "    - data: Datos a etiquetar de dimensiones Número de dimensiones (# ejemplos, # características)\n",
    "    - model: Modelo utilizado para etiquetar\n",
    "            \n",
    "    Salidas:\n",
    "    - Un arreglo de numpy referente a las etiquetas asignadas a cada ejemplo recibido en la entrada \"data\".\n",
    "    - Un arreglo de numpy referente al modelo generado aleatoriamente.\n",
    "    \"\"\"\n",
    "\n",
    "    labels = np.zeros((data.shape[0],))\n",
    "    # if model is None:\n",
    "    #     model = __random_fn__((data.shape[1] + 1,))\n",
    "\n",
    "    # CÓDIGO AQUÍ\n",
    "    if model is None:\n",
    "        np.random.seed(1509345)\n",
    "        model = np.random.normal(\n",
    "            loc=0,\n",
    "            scale=1,\n",
    "            size=data.shape[1] + 1\n",
    "        )\n",
    "\n",
    "    data = np.concatenate((np.ones((data.shape[0], 1)), data), axis=1)\n",
    "\n",
    "    predictions = np.tanh(np.dot(data, model))\n",
    "    labels[predictions >= 0] = 1\n",
    "    labels[predictions < 0] = -1\n",
    "\n",
    "    return labels, model\n"
   ]
  },
  {
   "cell_type": "code",
   "execution_count": null,
   "metadata": {},
   "outputs": [
    {
     "data": {
      "image/png": "[encoded data removed]",
      "text/plain": [
       "<Figure size 432x288 with 1 Axes>"
      ]
     },
     "metadata": {
      "needs_background": "light"
     },
     "output_type": "display_data"
    }
   ],
   "source": [
    "__labels__, __model__ = label_data(uniform)\n",
    "\n",
    "assert __labels__.shape == (20,)\n",
    "assert __model__.shape == (2 + 1,)\n",
    "\n",
    "_ = sns.scatterplot(x=uniform[:, 0], y=uniform[:, 1], hue=__labels__)\n"
   ]
  },
  {
   "cell_type": "code",
   "execution_count": null,
   "metadata": {},
   "outputs": [],
   "source": [
    "def simplified_smo(\n",
    "    C: float, tol: float, X: np.array, y: np.array, max_passes: int = 100\n",
    ") -> np.array:\n",
    "    \"\"\"Algoritmo de Support Vector Machine simplificado.\n",
    "\n",
    "    Args:\n",
    "        C (float): Parametro de regularización (0.1, 1, 10, 100, etc.)\n",
    "        tol (float): Valor de tolerancia (0.001, 0.0001)\n",
    "        X (np.array): valores que queremos separar\n",
    "        y (np.array): Etiqueta de los valores de x\n",
    "        max_passes (int, optional): Número de veces que repite el algoritmo. Defaults to 100.\n",
    "\n",
    "    Returns:\n",
    "        alpha : valores de lagrange que es la solucion\n",
    "        b : Umbral para la solución o intersección entre datos\n",
    "    \"\"\"\n",
    "    # Inicializamos m, n para no hacerlo despues\n",
    "    m, n = X.shape\n",
    "    # Creamos un arreglo donde se almacenan los valores de alpha\n",
    "    alpha = np.zeros(m)\n",
    "    b = 0\n",
    "    passes = 0\n",
    "\n",
    "    while passes < max_passes:\n",
    "        num_changed_alphas = 0\n",
    "        for i in range(m):\n",
    "            # Calculo del ei y el kernel al mismo tiempo usando el producto punto\n",
    "            E_i = np.dot(alpha * y, np.dot(X, X[i])) + b - y[i]\n",
    "            # Verificamos la condición de KKT (Kernel Karush-Kuhn-Tucker)\n",
    "            if (y[i] * E_i < -tol and alpha[i] < C) or (\n",
    "                y[i] * E_i > tol and alpha[i] > 0\n",
    "            ):\n",
    "                # Generamos un indice aleatorio\n",
    "                j = np.random.choice(np.delete(np.arange(m), i))\n",
    "                # calculamos el e_j\n",
    "                E_j = np.dot(alpha * y, np.dot(X, X[j])) + b - y[j]\n",
    "                # guardamos el valor antiguo de los alpha\n",
    "                alpha_i_old, alpha_j_old = alpha[i], alpha[j]\n",
    "                # Calcular los límites de alpha[j] para que satisfagan las restricciones\n",
    "                if y[i] != y[j]:\n",
    "                    L = max(0, alpha[j] - alpha[i])\n",
    "                    H = min(C, C + alpha[j] - alpha[i])\n",
    "                else:\n",
    "                    L = max(0, alpha[i] + alpha[j] - C)\n",
    "                    H = min(C, alpha[i] + alpha[j])\n",
    "                # Si L = H, no se puede hacer nada\n",
    "                if L == H:\n",
    "                    continue\n",
    "                # Calcular el valor no restringido de alpha[j]\n",
    "                eta = 2 * np.dot(X[i], X[j]) - np.dot(X[i], X[i]) - np.dot(X[j], X[j])\n",
    "                if eta >= 0:\n",
    "                    continue\n",
    "                # Calcular y recortar el nuevo valor de alpha[j]\n",
    "                alpha[j] = alpha[j] - (y[j] * (E_i - E_j)) / eta\n",
    "                alpha[j] = np.clip(alpha[j], L, H)\n",
    "                # Calcular los valores de b para los nuevos valores de alpha[i] y alpha[j]\n",
    "                if abs(alpha[j] - alpha_j_old) < 1e-5:\n",
    "                    continue\n",
    "                alpha[i] = alpha[i] + y[i] * y[j] * (alpha_j_old - alpha[j])\n",
    "                b_i = (\n",
    "                    b\n",
    "                    - E_i\n",
    "                    - y[i] * (alpha[i] - alpha_i_old) * np.dot(X[i], X[i])\n",
    "                    - y[j] * (alpha[j] - alpha_j_old) * np.dot(X[i], X[j])\n",
    "                )\n",
    "                b_j = (\n",
    "                    b\n",
    "                    - E_j\n",
    "                    - y[i] * (alpha[i] - alpha_i_old) * np.dot(X[i], X[j])\n",
    "                    - y[j] * (alpha[j] - alpha_j_old) * np.dot(X[j], X[j])\n",
    "                )\n",
    "                if 0 < alpha[i] < C:\n",
    "                    b = b_i\n",
    "                elif 0 < alpha[j] < C:\n",
    "                    b = b_j\n",
    "                else:\n",
    "                    b = (b_i + b_j) / 2\n",
    "                num_changed_alphas += 1\n",
    "        # Si no se hacen cambios en el ciclo, salimos del while\n",
    "        # Si no, aumentamos el contador de pasos\n",
    "        if num_changed_alphas == 0:\n",
    "            passes += 1\n",
    "        else:\n",
    "            passes = 0\n",
    "    return alpha, b\n"
   ]
  },
  {
   "cell_type": "code",
   "execution_count": null,
   "metadata": {},
   "outputs": [],
   "source": [
    "# def simplified_smo(C : float, tol: float, x : np.array, y : np.array, max_pasos=100) :\n",
    "#     \"\"\"Algoritmo de Support Vector Machine simplificado.\n",
    "\n",
    "#     Args:\n",
    "#         C (float): Parametro de regularización (0.1, 1, 10, 100, etc.)\n",
    "#         tol (float): Valor de tolerancia (0.001, 0.0001)\n",
    "#         X (np.array): valores que queremos separar\n",
    "#         y (np.array): Etiqueta de los valores de x\n",
    "#         max_passes (int, optional): Número de veces que repite el algoritmo. Defaults to 100.\n",
    "\n",
    "#     Returns:\n",
    "#         alpha : valores de lagrange que es la solucion\n",
    "#         b : Umbral para la solución o intersección entre datos\n",
    "#     \"\"\"    \n",
    "#     # Inicialización de alphas\n",
    "#     alpha = np.zeros(x.shape[0])\n",
    "#     b = 0\n",
    "#     pasos = 0\n",
    "#     # max_pasos = 1000\n",
    "#     # Inicializamos m, n para no hacerlo despues\n",
    "#     m, n = x.shape\n",
    "#     # Cálculo del kernel usando el producto punto\n",
    "#     kernel = np.dot(x, x.T)\n",
    "#     # Lista para guardar los alphas antiguos\n",
    "#     old_alpha = np.zeros(x.shape[0])\n",
    "#     alpha_j = 0\n",
    "\n",
    "#     while pasos < max_pasos:\n",
    "#         num_changed_alphas = 0\n",
    "#         for i in range(len(x)):\n",
    "#             # Calcule Ei usando la fórmula correcta\n",
    "#             Ei = np.sum(alpha * y * kernel[i]) + b - y[i]\n",
    "\n",
    "#             # Verificamos la condición de KKT (Kernel Karush-Kuhn-Tucker)\n",
    "#             if (Ei * y[i] < -tol and alpha[i] < C) or (\n",
    "#                 Ei * y[i] > tol and alpha[i] > 0\n",
    "#             ):\n",
    "#                 # Generamos un indice aleatorio\n",
    "#                 j = np.random.choice(np.delete(np.arange(m), i))\n",
    "\n",
    "#                 # Calcule Ej \n",
    "#                 Ej = np.sum(alpha * y * kernel[j]) + b - y[j]\n",
    "\n",
    "#                 # Salvar el valor antiguo de alpha[j]\n",
    "#                 alpha_j_old = alpha[j]\n",
    "\n",
    "#                 # Calcular los límites de alpha[j] para que satisfagan las restricciones\n",
    "#                 if y[i] != y[j]:\n",
    "#                     L = max(0, alpha[j] - alpha[i])\n",
    "#                     H = min(C, C + alpha[j] - alpha[i])\n",
    "#                 else:\n",
    "#                     L = max(0, alpha[j] + alpha[i] - C)\n",
    "#                     H = min(C, alpha[j] + alpha[i])\n",
    "\n",
    "#                 # Si L = H, no se puede hacer nada\n",
    "#                 if L == H:\n",
    "#                     continue\n",
    "\n",
    "#                 # Calcular el valor no restringido de alpha[j]\n",
    "#                 # fórmula tomada del documento original CS 229, Autumn 2009\n",
    "#                 eta = 2 * kernel[i][j] - kernel[i][i] - kernel[j][j]\n",
    "#                 if eta >= 0:\n",
    "#                     continue\n",
    "\n",
    "#                 # Calcular y recortar el nuevo valor de alpha[j]\n",
    "#                 alpha[j] = alpha[j] - (y[j] * (Ei - Ej)) / eta\n",
    "#                 alpha[j] = max(alpha[j], L)\n",
    "#                 alpha[j] = min(alpha[j], H)\n",
    "\n",
    "#                 # Revisar si hay cambios suficientemente grandes en alpha[j]\n",
    "#                 if abs(alpha[j] - alpha_j_old) < 1e-5:\n",
    "#                     continue\n",
    "\n",
    "#                 # Calcular el valor correspondiente de alpha[i]\n",
    "#                 alpha[i] = alpha[i] + y[i] * y[j] * (alpha_j_old - alpha[j])\n",
    "\n",
    "#                 # Calcular los valores de b para los nuevos valores de alpha[i] y alpha[j]\n",
    "#                 bi = (\n",
    "#                     b\n",
    "#                     - Ei\n",
    "#                     - y[i] * (alpha[i] - alpha_j_old) * kernel[i][i]\n",
    "#                     - y[j] * (alpha[j] - alpha_j_old) * kernel[i][j]\n",
    "#                 )\n",
    "#                 bj = (\n",
    "#                     b\n",
    "#                     - Ej\n",
    "#                     - y[i] * (alpha[i] - alpha_j_old) * kernel[i][j]\n",
    "#                     - y[j] * (alpha[j] - alpha_j_old) * kernel[j][j]\n",
    "#                 )\n",
    "#                 if alpha[i] > 0 and alpha[i] < C:\n",
    "#                     b = bi\n",
    "#                 elif alpha[j] > 0 and alpha[j] < C:\n",
    "#                     b = bj\n",
    "#                 else:\n",
    "#                     b = (bi + bj) / 2\n",
    "\n",
    "#                 num_changed_alphas += 1\n",
    "\n",
    "#         # Si no se hacen cambios en el ciclo, salimos del while\n",
    "#         if num_changed_alphas == 0:\n",
    "#             break\n",
    "\n",
    "#         # Si no, aumentamos el contador de pasos\n",
    "#         pasos += 1\n",
    "\n",
    "#     return alpha, b"
   ]
  },
  {
   "cell_type": "code",
   "execution_count": null,
   "metadata": {},
   "outputs": [],
   "source": [
    "alpha, b = simplified_smo(10, 0.0001, uniform, __labels__, 1000)"
   ]
  },
  {
   "cell_type": "code",
   "execution_count": null,
   "metadata": {},
   "outputs": [],
   "source": [
    "def plot_separating_hyperplane(\n",
    "    alpha: np.array, x: np.array, y: np.array, b: float\n",
    ") -> None:\n",
    "    \"\"\"Función para graficar los puntos y el hiperplano que separa dicho puntos\n",
    "\n",
    "    Args:\n",
    "        alpha (np.array): valores de alpha optimizados\n",
    "        x (np.array): valores que queremos separar\n",
    "        y (np.array): etiquetas de los valores\n",
    "        b (float): valor de interseccion del hiperplano\n",
    "    \"\"\"\n",
    "    # Calcular la pendiente de la recta\n",
    "    uniform = np.tile(alpha * y, (x.shape[1], 1)).T * x\n",
    "    w = np.sum(uniform, axis=0)\n",
    "\n",
    "    # plt.scatter(x[:, 0], x[:, 1], c=y, cmap=plt.cm.Paired, edgecolors=\"k\")\n",
    "    # # Graficar los vectores de soporte\n",
    "    # plt.scatter(\n",
    "    #     x[alpha > 1e-6, 0], x[alpha > 1e-6, 1], s=150, facecolors=\"none\", edgecolors=\"k\"\n",
    "    # )\n",
    "\n",
    "    # Graficar la recta\n",
    "    xp = np.linspace(np.min(x[:, 0]), np.max(x[:, 0]), 100)\n",
    "    yp = -(w[0] * xp + b) / w[1]\n",
    "    plt.plot(xp, yp, \"k-\")\n",
    "    plt.scatter(x[:, 0], x[:, 1], c=y, cmap=plt.cm.Paired, edgecolors=\"k\", label='Datos')\n",
    "    plt.scatter(x[alpha > 1e-6, 0], x[alpha > 1e-6, 1], s=150, facecolors=\"none\", edgecolors=\"k\", label='Vectores de soporte')\n",
    "    plt.plot(xp, yp, \"k-\", label='Línea de separación')\n",
    "    plt.legend(bbox_to_anchor =(0.90, 1.0), ncol = 1)\n",
    "    plt.title('Valores separados por el hiperplano')\n",
    "    \n",
    "    plt.xlabel(\"Feature 1\")\n",
    "    plt.ylabel(\"Feature 2\")\n",
    "    # plt.axis(\"tight\")\n",
    "    plt.show()"
   ]
  },
  {
   "cell_type": "code",
   "execution_count": null,
   "metadata": {},
   "outputs": [
    {
     "data": {
      "image/png": "[encoded data removed]",
      "text/plain": [
       "<Figure size 432x288 with 1 Axes>"
      ]
     },
     "metadata": {
      "needs_background": "light"
     },
     "output_type": "display_data"
    }
   ],
   "source": [
    "plot_separating_hyperplane(alpha, uniform, __labels__, b)"
   ]
  },
  {
   "attachments": {},
   "cell_type": "markdown",
   "metadata": {},
   "source": [
    "## Asignación 2\n",
    "\n",
    "Genera un dataset de clasificación binaria $\\pm1$, de veinte instancias, aleatorio, de dos características, que contenga todos los puntos de una clase entre dos parábolas y los puntos por arriba o por debajo de estas parábolas pertenezcan a la otra clase. Grafique el dataset generado y coloree los puntos deacuerdo a su etiqueta."
   ]
  },
  {
   "cell_type": "code",
   "execution_count": null,
   "metadata": {},
   "outputs": [
    {
     "data": {
      "image/png": "[encoded data removed]",
      "text/plain": [
       "<Figure size 432x288 with 1 Axes>"
      ]
     },
     "metadata": {
      "needs_background": "light"
     },
     "output_type": "display_data"
    }
   ],
   "source": [
    "def parabola(x1, x2):\n",
    "    y1 = -0.2 * x1**2 + 4\n",
    "    y2 = 0.2 * x1**2 - 4\n",
    "    if x2 < y1 and x2 > y2:\n",
    "        return 1\n",
    "    else:\n",
    "        return -1\n",
    "\n",
    "\n",
    "# Generar un conjunto de datos aleatorio de 20 instancias con dos características\n",
    "# np.random.seed(0)\n",
    "X = generate_data()\n",
    "\n",
    "# Clasificar los puntos en dos clases\n",
    "y = np.zeros(20)\n",
    "for i in range(20):\n",
    "    y[i] = parabola(X[i, 0], X[i, 1])\n",
    "\n",
    "# Crear un gráfico de dispersión que muestre los puntos y su etiqueta\n",
    "plt.scatter(X[:, 0], X[:, 1], c=y)\n",
    "plt.show()"
   ]
  },
  {
   "cell_type": "code",
   "execution_count": null,
   "metadata": {},
   "outputs": [],
   "source": [
    "alpha_parab, b_parab = simplified_smo(0.01, 0.0001, X, y, 100)"
   ]
  },
  {
   "cell_type": "code",
   "execution_count": null,
   "metadata": {},
   "outputs": [
    {
     "data": {
      "image/png": "[encoded data removed]",
      "text/plain": [
       "<Figure size 432x288 with 1 Axes>"
      ]
     },
     "metadata": {
      "needs_background": "light"
     },
     "output_type": "display_data"
    }
   ],
   "source": [
    "plot_separating_hyperplane(alpha_parab, X, y, b_parab)"
   ]
  },
  {
   "attachments": {},
   "cell_type": "markdown",
   "metadata": {},
   "source": [
    "## Asignación 3\n",
    "\n",
    "Implemente una clase que permita ajustar un modelo de Máquinas de Vectores de Soporte. La clase debe cumplir con los siguientes requisitos:\n",
    "\n",
    "- Debe contar con un método para realizar el entrenamiento en caso de ser requerido.\n",
    "- Debe contar con un método para realizar las predicciones.\n",
    "- Debe de poder utilizar un kernel de identidad o de RBF.\n",
    "- Debe almacenar los vectores de soporte."
   ]
  },
  {
   "attachments": {},
   "cell_type": "markdown",
   "metadata": {},
   "source": [
    "## Asignación 4\n",
    "\n",
    "Entrene un modelo de SVM (utilizando la clase implementada anteriormente) utilizando el dataset generado en la asignación 1 y un kernel de identidad. Grafique las predicciones de su modelo y marque los puntos que son vectores de soporte."
   ]
  },
  {
   "attachments": {},
   "cell_type": "markdown",
   "metadata": {},
   "source": [
    "## Asignación 5\n",
    "\n",
    "Entrene un modelo de SVM (utilizando la clase implementada anteriormente) utilizando el dataset generado en la asignación 2 y un kernel de RBF. Grafique las predicciones de su modelo y marque los puntos que son vectores de soporte."
   ]
  },
  {
   "cell_type": "code",
   "execution_count": null,
   "metadata": {},
   "outputs": [],
   "source": []
  }
 ],
 "metadata": {
  "kernelspec": {
   "display_name": "Python 3",
   "language": "python",
   "name": "python3"
  },
  "language_info": {
   "codemirror_mode": {
    "name": "ipython",
    "version": 3
   },
   "file_extension": ".py",
   "mimetype": "text/x-python",
   "name": "python",
   "nbconvert_exporter": "python",
   "pygments_lexer": "ipython3",
   "version": "3.10.10"
  }
 },
 "nbformat": 4,
 "nbformat_minor": 4
}
