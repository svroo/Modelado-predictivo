{
  "cells": [
    {
      "cell_type": "code",
      "execution_count": null,
      "metadata": {
        "id": "4HuDV5P1A1dB",
        "colab": {
          "base_uri": "https://localhost:8080/"
        },
        "outputId": "0999d9f2-e9b4-4a14-c1ec-212b2643e0a0"
      },
      "outputs": [
        {
          "output_type": "stream",
          "name": "stdout",
          "text": [
            "Looking in indexes: https://pypi.org/simple, https://us-python.pkg.dev/colab-wheels/public/simple/\n",
            "Collecting openml\n",
            "  Downloading openml-0.13.1.tar.gz (127 kB)\n",
            "\u001b[2K     \u001b[90m━━━━━━━━━━━━━━━━━━━━━━━━━━━━━━━━━━━━━━━\u001b[0m \u001b[32m127.6/127.6 kB\u001b[0m \u001b[31m3.1 MB/s\u001b[0m eta \u001b[36m0:00:00\u001b[0m\n",
            "\u001b[?25h  Preparing metadata (setup.py) ... \u001b[?25l\u001b[?25hdone\n",
            "Collecting liac-arff>=2.4.0\n",
            "  Downloading liac-arff-2.5.0.tar.gz (13 kB)\n",
            "  Preparing metadata (setup.py) ... \u001b[?25l\u001b[?25hdone\n",
            "Collecting xmltodict\n",
            "  Downloading xmltodict-0.13.0-py2.py3-none-any.whl (10.0 kB)\n",
            "Requirement already satisfied: requests in /usr/local/lib/python3.10/dist-packages (from openml) (2.27.1)\n",
            "Requirement already satisfied: scikit-learn>=0.18 in /usr/local/lib/python3.10/dist-packages (from openml) (1.2.2)\n",
            "Requirement already satisfied: python-dateutil in /usr/local/lib/python3.10/dist-packages (from openml) (2.8.2)\n",
            "Requirement already satisfied: pandas>=1.0.0 in /usr/local/lib/python3.10/dist-packages (from openml) (1.5.3)\n",
            "Requirement already satisfied: scipy>=0.13.3 in /usr/local/lib/python3.10/dist-packages (from openml) (1.10.1)\n",
            "Requirement already satisfied: numpy>=1.6.2 in /usr/local/lib/python3.10/dist-packages (from openml) (1.22.4)\n",
            "Collecting minio\n",
            "  Downloading minio-7.1.14-py3-none-any.whl (77 kB)\n",
            "\u001b[2K     \u001b[90m━━━━━━━━━━━━━━━━━━━━━━━━━━━━━━━━━━━━━━━━\u001b[0m \u001b[32m77.2/77.2 kB\u001b[0m \u001b[31m2.2 MB/s\u001b[0m eta \u001b[36m0:00:00\u001b[0m\n",
            "\u001b[?25hRequirement already satisfied: pyarrow in /usr/local/lib/python3.10/dist-packages (from openml) (9.0.0)\n",
            "Requirement already satisfied: pytz>=2020.1 in /usr/local/lib/python3.10/dist-packages (from pandas>=1.0.0->openml) (2022.7.1)\n",
            "Requirement already satisfied: six>=1.5 in /usr/local/lib/python3.10/dist-packages (from python-dateutil->openml) (1.16.0)\n",
            "Requirement already satisfied: threadpoolctl>=2.0.0 in /usr/local/lib/python3.10/dist-packages (from scikit-learn>=0.18->openml) (3.1.0)\n",
            "Requirement already satisfied: joblib>=1.1.1 in /usr/local/lib/python3.10/dist-packages (from scikit-learn>=0.18->openml) (1.2.0)\n",
            "Requirement already satisfied: certifi in /usr/local/lib/python3.10/dist-packages (from minio->openml) (2022.12.7)\n",
            "Requirement already satisfied: urllib3 in /usr/local/lib/python3.10/dist-packages (from minio->openml) (1.26.15)\n",
            "Requirement already satisfied: charset-normalizer~=2.0.0 in /usr/local/lib/python3.10/dist-packages (from requests->openml) (2.0.12)\n",
            "Requirement already satisfied: idna<4,>=2.5 in /usr/local/lib/python3.10/dist-packages (from requests->openml) (3.4)\n",
            "Building wheels for collected packages: openml, liac-arff\n",
            "  Building wheel for openml (setup.py) ... \u001b[?25l\u001b[?25hdone\n",
            "  Created wheel for openml: filename=openml-0.13.1-py3-none-any.whl size=142798 sha256=32fcffcbf656b9c5571e7c15440b8cc5e8297f20b06ec75e9f4a71681a996e0b\n",
            "  Stored in directory: /root/.cache/pip/wheels/f7/7a/fa/f73edc5ccecbab13bbf5fb888f2f943720f77114a1fa4ceffe\n",
            "  Building wheel for liac-arff (setup.py) ... \u001b[?25l\u001b[?25hdone\n",
            "  Created wheel for liac-arff: filename=liac_arff-2.5.0-py3-none-any.whl size=11732 sha256=ded494628eb64a562ad366b817f9d585aa02e8f23e9748e3fa57a8ce13497549\n",
            "  Stored in directory: /root/.cache/pip/wheels/5d/2a/9c/3895d9617f8f49a0883ba686326d598e78a1c2f54fe3cae86d\n",
            "Successfully built openml liac-arff\n",
            "Installing collected packages: xmltodict, minio, liac-arff, openml\n",
            "Successfully installed liac-arff-2.5.0 minio-7.1.14 openml-0.13.1 xmltodict-0.13.0\n",
            "Looking in indexes: https://pypi.org/simple, https://us-python.pkg.dev/colab-wheels/public/simple/\n",
            "Requirement already satisfied: nltk in /usr/local/lib/python3.10/dist-packages (3.8.1)\n",
            "Requirement already satisfied: regex>=2021.8.3 in /usr/local/lib/python3.10/dist-packages (from nltk) (2022.10.31)\n",
            "Requirement already satisfied: click in /usr/local/lib/python3.10/dist-packages (from nltk) (8.1.3)\n",
            "Requirement already satisfied: joblib in /usr/local/lib/python3.10/dist-packages (from nltk) (1.2.0)\n",
            "Requirement already satisfied: tqdm in /usr/local/lib/python3.10/dist-packages (from nltk) (4.65.0)\n"
          ]
        }
      ],
      "source": [
        "# Execute if necessary\n",
        "# %%capture\n",
        "!pip install openml\n",
        "!pip install nltk\n",
        "# import nltk\n",
        "# nltk.download()\n",
        "# nltk.download('stopwords') "
      ]
    },
    {
      "cell_type": "code",
      "execution_count": null,
      "metadata": {
        "id": "RA6pr4VGA1dE",
        "colab": {
          "base_uri": "https://localhost:8080/"
        },
        "outputId": "ae62bfed-d8c1-4c37-ba36-91765c6ec4ba"
      },
      "outputs": [
        {
          "output_type": "stream",
          "name": "stderr",
          "text": [
            "[nltk_data] Downloading package stopwords to /root/nltk_data...\n",
            "[nltk_data]   Unzipping corpora/stopwords.zip.\n"
          ]
        }
      ],
      "source": [
        "import numpy as np\n",
        "import seaborn as sns \n",
        "import matplotlib.pyplot as plt\n",
        "import pandas as pd\n",
        "from typing import Dict, Tuple, Union, List\n",
        "import openml\n",
        "import sklearn\n",
        "from sklearn.model_selection import train_test_split\n",
        "from sklearn import metrics\n",
        "from sklearn.decomposition import PCA\n",
        "#Progress bar\n",
        "from tqdm import tqdm\n",
        "# Preprocesamiento del texto (stopwords)\n",
        "import nltk\n",
        "nltk.download('stopwords')\n",
        "from nltk.corpus import stopwords\n",
        "# expresion regular para normalización\n",
        "import regex as re\n",
        "# Preprosesamiento de texto a numero\n",
        "from sklearn.feature_extraction.text import CountVectorizer\n",
        "from sklearn.feature_extraction.text import TfidfTransformer"
      ]
    },
    {
      "cell_type": "markdown",
      "metadata": {
        "id": "ap9pUQa1A1dE"
      },
      "source": [
        "# Práctica 5: Introducción a Modelos de Clasificación"
      ]
    },
    {
      "cell_type": "markdown",
      "metadata": {
        "id": "tIn-oRUGA1dH"
      },
      "source": [
        "__Instrucciones__: A continuación hay una lista de funciones que debe implementar o tareas que debe desarrollar. La descripción de cada una de ellas se encuentra en la definición de cada una de las funciones.\n",
        "\n",
        "La entrega de la práctica será en la siguiente sesión a menos que la indicación sea otra. La revisión iniciará al comienzo de la sesión y únicamente podrá ser evaluada durante la duración de la sesión."
      ]
    },
    {
      "cell_type": "markdown",
      "metadata": {
        "id": "i_ndM0LSA1dH"
      },
      "source": [
        "## Asignación 1\n",
        "\n",
        "Implemente una clase que permita ajustar un modelo KNN. La clase debe cumplir con los siguientes requisitos:\n",
        "\n",
        "- Debe contar con un método para realizar el entrenamiento en caso de ser requerido.\n",
        "- Debe contar con un método para realizar las predicciones.\n",
        "- Cada método debe imprimir una barra de progreso que permita conocer el tiempo estimado en que terminará.\n",
        "- La clase debe permitir el uso de la distancia Mikownski y similitud coseno."
      ]
    },
    {
      "cell_type": "code",
      "source": [
        "#for i in tqdm (range (100), desc=\"Loading...\"):\n",
        "class KNN:\n",
        "  data = []\n",
        "  target = []\n",
        "  k_nearest = 0\n",
        "  method = \"\"\n",
        "\n",
        "  #Inicializar clase KNN\n",
        "  def __init__ (self, data, target, k_nearest, method):\n",
        "    self.data = data\n",
        "    self.target = target\n",
        "    self.k_nearest = k_nearest\n",
        "    self.method = method\n",
        "  \n",
        "  #Método privado\n",
        "  def _form_cosine(self, a, b):\n",
        "    return np.dot(a,b)/(np.linalg.norm(a)*np.linalg.norm(b))\n",
        "    \n",
        "  def _form_mikownski(self, a, b, P):\n",
        "    mikownski_dist = 0\n",
        "    for i in range(len(a)):\n",
        "      mikownski_dist += (a[i] - b[i])**P\n",
        "    \n",
        "    mikownski_dist = mikownski_dist**(1/P)\n",
        "\n",
        "    return mikownski_dist\n",
        "\n",
        "  def calc_dist(self, punto, P):\n",
        "    n = len(self.data)\n",
        "    dist_to_point = []\n",
        "    for i in range(n):\n",
        "      if self.method == \"cosine\":\n",
        "        dist_to_point.append((self._form_cosine(punto, self.data[i]), self.target[i]))\n",
        "      if self.method == \"mikownski\":\n",
        "        dist_to_point.append((self._form_mikownski(punto, self.data[i], P), self.target[i]))\n",
        "    \n",
        "    dist_to_point.sort(key = lambda x: x[0])   #index 0 means first element\n",
        "\n",
        "    #get k nearest\n",
        "    nearest = dist_to_point[:self.k_nearest]\n",
        "    \n",
        "    #get target of k_nearest to classify new point\n",
        "    get_classes = list(set(i[-1] for i in nearest))\n",
        "    count_class = np.zeros(len(get_classes))\n",
        "    \n",
        "    for i, cls in enumerate(get_classes):\n",
        "      count = 0\n",
        "      for j in range(self.k_nearest):\n",
        "        if nearest[j][1] == cls:\n",
        "          count += 1\n",
        "      \n",
        "      count_class[i] = count\n",
        "    \n",
        "    #get max index\n",
        "    i = np.where(count_class == np.max(count_class))[0][0]\n",
        "    # print(get_classes)\n",
        "    # print(nearest)\n",
        "    # print(count_class)\n",
        "    new_target = get_classes[i]\n",
        "\n",
        "    #print(f\"El dato pertenece a la clase {new_target}\")\n",
        "\n",
        "    return new_target\n",
        "\n",
        "\n",
        "  def predict(self, points, P = 2):\n",
        "    new_targets = []\n",
        "\n",
        "    for i in tqdm(range(len(points))):      \n",
        "        new_targets.append(self.calc_dist(points[i], P))\n",
        "    \n",
        "    return new_targets\n",
        "\n",
        "  "
      ],
      "metadata": {
        "id": "zwLmvtVeCKvT"
      },
      "execution_count": null,
      "outputs": []
    },
    {
      "cell_type": "code",
      "source": [
        "knn_cosine = KNN([[5,2], [4,3], [3,4], [2, 4], [1, 3]], [1,2,1,2,2], k_nearest = 3, method = 'cosine')\n",
        "knn_cosine.predict([[6, 1],[7,3],[3,6]])"
      ],
      "metadata": {
        "colab": {
          "base_uri": "https://localhost:8080/"
        },
        "id": "1XGY3DCDfCPF",
        "outputId": "132514fa-d739-469e-ad80-bf15f91da6ab"
      },
      "execution_count": null,
      "outputs": [
        {
          "output_type": "stream",
          "name": "stderr",
          "text": [
            "100%|██████████| 3/3 [00:00<00:00, 1292.94it/s]\n"
          ]
        },
        {
          "output_type": "execute_result",
          "data": {
            "text/plain": [
              "[2, 2, 1]"
            ]
          },
          "metadata": {},
          "execution_count": 4
        }
      ]
    },
    {
      "cell_type": "code",
      "source": [
        "knn_cosine = KNN([[5,2], [4,3], [3,4], [2, 4], [1, 3]], [1,2,1,2,2], k_nearest = 3, method = 'mikownski')\n",
        "knn_cosine.predict([[6, 1],[7,3],[3,6]], P = 2)"
      ],
      "metadata": {
        "colab": {
          "base_uri": "https://localhost:8080/"
        },
        "id": "C5n3EK2DmnDk",
        "outputId": "7456b382-4239-4a23-dd7e-65f25810dd98"
      },
      "execution_count": null,
      "outputs": [
        {
          "output_type": "stream",
          "name": "stderr",
          "text": [
            "100%|██████████| 3/3 [00:00<00:00, 5836.23it/s]\n"
          ]
        },
        {
          "output_type": "execute_result",
          "data": {
            "text/plain": [
              "[1, 1, 2]"
            ]
          },
          "metadata": {},
          "execution_count": 5
        }
      ]
    },
    {
      "cell_type": "markdown",
      "metadata": {
        "id": "VM3wS9YDA1dI"
      },
      "source": [
        "## Asignación 2\n",
        "\n",
        "Implemente una clase que permita ajustar un modelo Naive Bayes. La clase debe cumplir con los siguientes requisitos:\n",
        "\n",
        "- Debe contar con un método para realizar el entrenamiento en caso de ser requerido.\n",
        "- Debe contar con un método para realizar las predicciones.\n",
        "- Cada método debe imprimir una barra de progreso que permita conocer el tiempo estimado en que terminará."
      ]
    },
    {
      "cell_type": "code",
      "source": [
        "class NaiveBayesClassifier:\n",
        "    # Inicializamos las variables internas\n",
        "    def __init__(self):\n",
        "        self.vocab = set()\n",
        "        self.class_counts = {}\n",
        "        self.word_counts = {}\n",
        "        self.class_probabilities = {}\n",
        "\n",
        "    def train(self, data):\n",
        "        \"\"\"\n",
        "        Funcion para entrenar el modelo de Naive bayes para texto y su etiqueta realizando el conteo de cada una de las palabras en el documento\n",
        "        Entrada:\n",
        "        data : puede ser una lista que contiene lista, donde cada elemento de estas listas es el texto y otra la etiqueta correspondiente al texto\n",
        "\n",
        "        Ejemplo:\n",
        "        training_data = [\n",
        "            [\"Este es un buen producto\", \"positivo\"],\n",
        "            [\"No me gustó el servicio\", \"negativo\"],\n",
        "            [\"La calidad es excelente\", \"positivo\"],\n",
        "            [\"No volveré a comprar aquí\", \"negativo\"],\n",
        "            [\"El envío fue rápido\", \"positivo\"]\n",
        "        ]\n",
        "\n",
        "        classifier = NaiveBayesClassifier()\n",
        "        classifier.train(training_data)\n",
        "        \"\"\"\n",
        "        # Count the number of documents in each class\n",
        "        for document, label in data:\n",
        "            if label not in self.class_counts:\n",
        "                self.class_counts[label] = 0\n",
        "            self.class_counts[label] += 1\n",
        "\n",
        "        # Count the occurrences of each word in each class\n",
        "        for document, label in data:\n",
        "            for word in document.split():\n",
        "                self.vocab.add(word)\n",
        "                if label not in self.word_counts:\n",
        "                    self.word_counts[label] = {}\n",
        "                if word not in self.word_counts[label]:\n",
        "                    self.word_counts[label][word] = 0\n",
        "                self.word_counts[label][word] += 1\n",
        "\n",
        "        # Compute the class probabilities\n",
        "        num_documents = sum(self.class_counts.values())\n",
        "        # tqdm (range (100), desc=\"Loading...\")\n",
        "        for label in tqdm(self.class_counts, desc='Loading...'):\n",
        "            self.class_probabilities[label] = self.class_counts[label] / num_documents\n",
        "\n",
        "    def _predictOne(self, document: str) -> str:\n",
        "        \n",
        "        \"\"\"\n",
        "        Realiza las predicciones acorde al método de entrenamiento previemente definido.\n",
        "\n",
        "        Entradas:\n",
        "        document: Texto del que queremos saber su probabilidad.\n",
        "\n",
        "        Salida:\n",
        "        La etiqueta a la cual pertenece el texto\n",
        "\n",
        "        Ejemplo:\n",
        "        document = \"El producto es excelente\"\n",
        "        predicted_label = classifier.predict(document)\n",
        "        print(predicted_label) # Imprime \"positivo\"\n",
        "        \"\"\"\n",
        "        # Calculamos las probabilidades para cada clase\n",
        "        log_probabilities = {}\n",
        "        for label in self.class_counts:\n",
        "            log_probabilities[label] = np.log(self.class_probabilities[label])\n",
        "            for word in document.split():\n",
        "                if word in self.word_counts[label]:\n",
        "                    log_probabilities[label] += np.log(\n",
        "                        (self.word_counts[label][word] + 1)\n",
        "                        / (sum(self.word_counts[label].values()) + len(self.vocab))\n",
        "                    )\n",
        "                else:\n",
        "                    log_probabilities[label] += np.log(\n",
        "                        1 / (sum(self.word_counts[label].values()) + len(self.vocab))\n",
        "                    )\n",
        "\n",
        "        # Regresa la etiqueta con la que tiene mayor probabilidad\n",
        "        return max(log_probabilities, key=log_probabilities.get)\n",
        "    \n",
        "    def predict(self, data):\n",
        "      predictions = []\n",
        "      for doc in data:\n",
        "        predictions.append(self._predictOne(doc))\n",
        "      \n",
        "      return predictions"
      ],
      "metadata": {
        "id": "gbR-ZyltfkTS"
      },
      "execution_count": null,
      "outputs": []
    },
    {
      "cell_type": "markdown",
      "metadata": {
        "id": "4aTNiYnRA1dI"
      },
      "source": [
        "En esta sección se incluye un dataset real. El dataset importado se llama _spambase_ y puede leer su descripción en la siguiente liga\n",
        "\n",
        "https://www.openml.org/d/42904"
      ]
    },
    {
      "cell_type": "code",
      "execution_count": null,
      "metadata": {
        "id": "B5syxr6kA1dJ"
      },
      "outputs": [],
      "source": [
        "# Descarga la metadata del dataset\n",
        "dataset_info = openml.datasets.get_dataset(42904, download_data=False)\n",
        "\n",
        "target = \"CLASS\"\n",
        "\n",
        "(\n",
        "    features, # Dataframe con las características que se pueden utilizar para predecir\n",
        "    outputs, # Columna a predecir\n",
        "    _, # Máscara que indica que columnas de todas las características son categoricas\n",
        "    columns # Lista con el nombre de las características\n",
        ")= dataset_info.get_data(\n",
        "    dataset_format=\"dataframe\", target=target\n",
        ")\n",
        "\n",
        "columns = np.array(columns)"
      ]
    },
    {
      "cell_type": "code",
      "execution_count": null,
      "metadata": {
        "id": "ULNy4KDrA1dL",
        "outputId": "e62b1830-1a05-4bc3-d52a-c76f767794c6",
        "colab": {
          "base_uri": "https://localhost:8080/"
        }
      },
      "outputs": [
        {
          "output_type": "stream",
          "name": "stdout",
          "text": [
            "La columna a predecir se llama 'CLASS'\n",
            "Todas las características son ['COMMENT_ID' 'AUTHOR' 'DATE' 'CONTENT']\n"
          ]
        }
      ],
      "source": [
        "print(f\"La columna a predecir se llama '{target}'\")\n",
        "print(f\"Todas las características son {str(columns)}\")"
      ]
    },
    {
      "cell_type": "code",
      "execution_count": null,
      "metadata": {
        "id": "OBPdfHw2A1dM"
      },
      "outputs": [],
      "source": [
        "# Impresión de las características\n",
        "features\n",
        "features.drop(axis = 0, index = 134, inplace = True)"
      ]
    },
    {
      "cell_type": "code",
      "execution_count": null,
      "metadata": {
        "id": "JtUt3_3WA1dN"
      },
      "outputs": [],
      "source": [
        "outputs\n",
        "outputs.drop(axis = 0, index = 134, inplace = True)"
      ]
    },
    {
      "cell_type": "markdown",
      "metadata": {
        "id": "kL0Ta8BLA1dN"
      },
      "source": [
        "# Asignación 3\n",
        "\n",
        "Realice el preprocesamiento que considere adecuado para que el dataset pueda ser procesado por un modelo de clasificación. __No olvide utilizar particionar en entrenamiento y validación, y realizar el preprocesamiento de manera adecuada__."
      ]
    },
    {
      "cell_type": "code",
      "source": [
        "features"
      ],
      "metadata": {
        "colab": {
          "base_uri": "https://localhost:8080/",
          "height": 423
        },
        "id": "cHZI5bshocqg",
        "outputId": "3df91269-17ea-4ebc-f009-cec53b3c4be9"
      },
      "execution_count": null,
      "outputs": [
        {
          "output_type": "execute_result",
          "data": {
            "text/plain": [
              "                                      COMMENT_ID  \\\n",
              "0    LZQPQhLyRh80UYxNuaDWhIGQYNQ96IuCg-AYWqNPjpU   \n",
              "1    LZQPQhLyRh_C2cTtd9MvFRJedxydaVW-2sNg5Diuo4A   \n",
              "2    LZQPQhLyRh9MSZYnf8djyk0gEF9BHDPYrrK-qCczIY8   \n",
              "3            z13jhp0bxqncu512g22wvzkasxmvvzjaz04   \n",
              "4            z13fwbwp1oujthgqj04chlngpvzmtt3r3dw   \n",
              "..                                           ...   \n",
              "345            z13th1q4yzihf1bll23qxzpjeujterydj   \n",
              "346        z13fcn1wfpb5e51xe04chdxakpzgchyaxzo0k   \n",
              "347          z130zd5b3titudkoe04ccbeohojxuzppvbg   \n",
              "348          z12he50arvrkivl5u04cctawgxzkjfsjcc4   \n",
              "349        z13vhvu54u3ewpp5h04ccb4zuoardrmjlyk0k   \n",
              "\n",
              "                                   AUTHOR                 DATE  \\\n",
              "0                               Julius NM  2013-11-07T06:20:48   \n",
              "1                             adam riyati  2013-11-07T12:37:15   \n",
              "2                        Evgeny Murashkin  2013-11-08T17:34:21   \n",
              "3                         ElNino Melendez  2013-11-09T08:28:43   \n",
              "4                                  GsMega  2013-11-10T16:05:38   \n",
              "..                                    ...                  ...   \n",
              "345                       Carmen Racasanu  2014-11-14T13:27:52   \n",
              "346                       diego mogrovejo  2014-11-14T13:28:08   \n",
              "347  BlueYetiPlayz -Call Of Duty and More  2015-05-23T13:04:32   \n",
              "348                          Photo Editor  2015-06-05T14:14:48   \n",
              "349                            Ray Benich  2015-06-05T18:05:16   \n",
              "\n",
              "                                               CONTENT  \n",
              "0    Huh, anyway check out this you[tube] channel: ...  \n",
              "1    Hey guys check out my new channel and our firs...  \n",
              "2               just for test I have to say murdev.com  \n",
              "3     me shaking my sexy ass on my channel enjoy ^_^ ﻿  \n",
              "4              watch?v=vtaRGgvGtWQ   Check this out .﻿  \n",
              "..                                                 ...  \n",
              "345  How can this have 2 billion views when there's...  \n",
              "346         I don't now why I'm watching this in 2014﻿  \n",
              "347  subscribe to me for call of duty vids and give...  \n",
              "348  hi guys please my android photo editor downloa...  \n",
              "349  The first billion viewed this because they tho...  \n",
              "\n",
              "[349 rows x 4 columns]"
            ],
            "text/html": [
              "\n",
              "  <div id=\"df-bc2b1eb5-c1d7-48fe-a049-6cbcf2c406ce\">\n",
              "    <div class=\"colab-df-container\">\n",
              "      <div>\n",
              "<style scoped>\n",
              "    .dataframe tbody tr th:only-of-type {\n",
              "        vertical-align: middle;\n",
              "    }\n",
              "\n",
              "    .dataframe tbody tr th {\n",
              "        vertical-align: top;\n",
              "    }\n",
              "\n",
              "    .dataframe thead th {\n",
              "        text-align: right;\n",
              "    }\n",
              "</style>\n",
              "<table border=\"1\" class=\"dataframe\">\n",
              "  <thead>\n",
              "    <tr style=\"text-align: right;\">\n",
              "      <th></th>\n",
              "      <th>COMMENT_ID</th>\n",
              "      <th>AUTHOR</th>\n",
              "      <th>DATE</th>\n",
              "      <th>CONTENT</th>\n",
              "    </tr>\n",
              "  </thead>\n",
              "  <tbody>\n",
              "    <tr>\n",
              "      <th>0</th>\n",
              "      <td>LZQPQhLyRh80UYxNuaDWhIGQYNQ96IuCg-AYWqNPjpU</td>\n",
              "      <td>Julius NM</td>\n",
              "      <td>2013-11-07T06:20:48</td>\n",
              "      <td>Huh, anyway check out this you[tube] channel: ...</td>\n",
              "    </tr>\n",
              "    <tr>\n",
              "      <th>1</th>\n",
              "      <td>LZQPQhLyRh_C2cTtd9MvFRJedxydaVW-2sNg5Diuo4A</td>\n",
              "      <td>adam riyati</td>\n",
              "      <td>2013-11-07T12:37:15</td>\n",
              "      <td>Hey guys check out my new channel and our firs...</td>\n",
              "    </tr>\n",
              "    <tr>\n",
              "      <th>2</th>\n",
              "      <td>LZQPQhLyRh9MSZYnf8djyk0gEF9BHDPYrrK-qCczIY8</td>\n",
              "      <td>Evgeny Murashkin</td>\n",
              "      <td>2013-11-08T17:34:21</td>\n",
              "      <td>just for test I have to say murdev.com</td>\n",
              "    </tr>\n",
              "    <tr>\n",
              "      <th>3</th>\n",
              "      <td>z13jhp0bxqncu512g22wvzkasxmvvzjaz04</td>\n",
              "      <td>ElNino Melendez</td>\n",
              "      <td>2013-11-09T08:28:43</td>\n",
              "      <td>me shaking my sexy ass on my channel enjoy ^_^ ﻿</td>\n",
              "    </tr>\n",
              "    <tr>\n",
              "      <th>4</th>\n",
              "      <td>z13fwbwp1oujthgqj04chlngpvzmtt3r3dw</td>\n",
              "      <td>GsMega</td>\n",
              "      <td>2013-11-10T16:05:38</td>\n",
              "      <td>watch?v=vtaRGgvGtWQ   Check this out .﻿</td>\n",
              "    </tr>\n",
              "    <tr>\n",
              "      <th>...</th>\n",
              "      <td>...</td>\n",
              "      <td>...</td>\n",
              "      <td>...</td>\n",
              "      <td>...</td>\n",
              "    </tr>\n",
              "    <tr>\n",
              "      <th>345</th>\n",
              "      <td>z13th1q4yzihf1bll23qxzpjeujterydj</td>\n",
              "      <td>Carmen Racasanu</td>\n",
              "      <td>2014-11-14T13:27:52</td>\n",
              "      <td>How can this have 2 billion views when there's...</td>\n",
              "    </tr>\n",
              "    <tr>\n",
              "      <th>346</th>\n",
              "      <td>z13fcn1wfpb5e51xe04chdxakpzgchyaxzo0k</td>\n",
              "      <td>diego mogrovejo</td>\n",
              "      <td>2014-11-14T13:28:08</td>\n",
              "      <td>I don't now why I'm watching this in 2014﻿</td>\n",
              "    </tr>\n",
              "    <tr>\n",
              "      <th>347</th>\n",
              "      <td>z130zd5b3titudkoe04ccbeohojxuzppvbg</td>\n",
              "      <td>BlueYetiPlayz -Call Of Duty and More</td>\n",
              "      <td>2015-05-23T13:04:32</td>\n",
              "      <td>subscribe to me for call of duty vids and give...</td>\n",
              "    </tr>\n",
              "    <tr>\n",
              "      <th>348</th>\n",
              "      <td>z12he50arvrkivl5u04cctawgxzkjfsjcc4</td>\n",
              "      <td>Photo Editor</td>\n",
              "      <td>2015-06-05T14:14:48</td>\n",
              "      <td>hi guys please my android photo editor downloa...</td>\n",
              "    </tr>\n",
              "    <tr>\n",
              "      <th>349</th>\n",
              "      <td>z13vhvu54u3ewpp5h04ccb4zuoardrmjlyk0k</td>\n",
              "      <td>Ray Benich</td>\n",
              "      <td>2015-06-05T18:05:16</td>\n",
              "      <td>The first billion viewed this because they tho...</td>\n",
              "    </tr>\n",
              "  </tbody>\n",
              "</table>\n",
              "<p>349 rows × 4 columns</p>\n",
              "</div>\n",
              "      <button class=\"colab-df-convert\" onclick=\"convertToInteractive('df-bc2b1eb5-c1d7-48fe-a049-6cbcf2c406ce')\"\n",
              "              title=\"Convert this dataframe to an interactive table.\"\n",
              "              style=\"display:none;\">\n",
              "        \n",
              "  <svg xmlns=\"http://www.w3.org/2000/svg\" height=\"24px\"viewBox=\"0 0 24 24\"\n",
              "       width=\"24px\">\n",
              "    <path d=\"M0 0h24v24H0V0z\" fill=\"none\"/>\n",
              "    <path d=\"M18.56 5.44l.94 2.06.94-2.06 2.06-.94-2.06-.94-.94-2.06-.94 2.06-2.06.94zm-11 1L8.5 8.5l.94-2.06 2.06-.94-2.06-.94L8.5 2.5l-.94 2.06-2.06.94zm10 10l.94 2.06.94-2.06 2.06-.94-2.06-.94-.94-2.06-.94 2.06-2.06.94z\"/><path d=\"M17.41 7.96l-1.37-1.37c-.4-.4-.92-.59-1.43-.59-.52 0-1.04.2-1.43.59L10.3 9.45l-7.72 7.72c-.78.78-.78 2.05 0 2.83L4 21.41c.39.39.9.59 1.41.59.51 0 1.02-.2 1.41-.59l7.78-7.78 2.81-2.81c.8-.78.8-2.07 0-2.86zM5.41 20L4 18.59l7.72-7.72 1.47 1.35L5.41 20z\"/>\n",
              "  </svg>\n",
              "      </button>\n",
              "      \n",
              "  <style>\n",
              "    .colab-df-container {\n",
              "      display:flex;\n",
              "      flex-wrap:wrap;\n",
              "      gap: 12px;\n",
              "    }\n",
              "\n",
              "    .colab-df-convert {\n",
              "      background-color: #E8F0FE;\n",
              "      border: none;\n",
              "      border-radius: 50%;\n",
              "      cursor: pointer;\n",
              "      display: none;\n",
              "      fill: #1967D2;\n",
              "      height: 32px;\n",
              "      padding: 0 0 0 0;\n",
              "      width: 32px;\n",
              "    }\n",
              "\n",
              "    .colab-df-convert:hover {\n",
              "      background-color: #E2EBFA;\n",
              "      box-shadow: 0px 1px 2px rgba(60, 64, 67, 0.3), 0px 1px 3px 1px rgba(60, 64, 67, 0.15);\n",
              "      fill: #174EA6;\n",
              "    }\n",
              "\n",
              "    [theme=dark] .colab-df-convert {\n",
              "      background-color: #3B4455;\n",
              "      fill: #D2E3FC;\n",
              "    }\n",
              "\n",
              "    [theme=dark] .colab-df-convert:hover {\n",
              "      background-color: #434B5C;\n",
              "      box-shadow: 0px 1px 3px 1px rgba(0, 0, 0, 0.15);\n",
              "      filter: drop-shadow(0px 1px 2px rgba(0, 0, 0, 0.3));\n",
              "      fill: #FFFFFF;\n",
              "    }\n",
              "  </style>\n",
              "\n",
              "      <script>\n",
              "        const buttonEl =\n",
              "          document.querySelector('#df-bc2b1eb5-c1d7-48fe-a049-6cbcf2c406ce button.colab-df-convert');\n",
              "        buttonEl.style.display =\n",
              "          google.colab.kernel.accessAllowed ? 'block' : 'none';\n",
              "\n",
              "        async function convertToInteractive(key) {\n",
              "          const element = document.querySelector('#df-bc2b1eb5-c1d7-48fe-a049-6cbcf2c406ce');\n",
              "          const dataTable =\n",
              "            await google.colab.kernel.invokeFunction('convertToInteractive',\n",
              "                                                     [key], {});\n",
              "          if (!dataTable) return;\n",
              "\n",
              "          const docLinkHtml = 'Like what you see? Visit the ' +\n",
              "            '<a target=\"_blank\" href=https://colab.research.google.com/notebooks/data_table.ipynb>data table notebook</a>'\n",
              "            + ' to learn more about interactive tables.';\n",
              "          element.innerHTML = '';\n",
              "          dataTable['output_type'] = 'display_data';\n",
              "          await google.colab.output.renderOutput(dataTable, element);\n",
              "          const docLink = document.createElement('div');\n",
              "          docLink.innerHTML = docLinkHtml;\n",
              "          element.appendChild(docLink);\n",
              "        }\n",
              "      </script>\n",
              "    </div>\n",
              "  </div>\n",
              "  "
            ]
          },
          "metadata": {},
          "execution_count": 12
        }
      ]
    },
    {
      "cell_type": "code",
      "source": [
        "def normalizar(text: str()) -> str:\n",
        "    \"\"\"\n",
        "    Funcion para normalizar el texto y eliminar stopwords, así como signos de puntuación, guiones bajos y demás caracteres que no sean texto, retorna la cadena limpia.\n",
        "    Entrada:\n",
        "    text : texto para normalizar\n",
        "    \"\"\"\n",
        "    stop_words = set(stopwords.words(\"english\"))\n",
        "    lower_string = text.lower()\n",
        "\n",
        "    no_number_string = re.sub(r\"\\d+\", \"\", lower_string)\n",
        "    no_sub_ = re.sub(\"[\\_]\", \" \", no_number_string)\n",
        "    no_punc_string = re.sub(r\"[^\\w\\s]\", \"\", no_sub_)\n",
        "    no_wspace_string = no_punc_string.strip()\n",
        "    # no_wspace_string\n",
        "\n",
        "    lst_string = [no_wspace_string][0].split()\n",
        "    # print(lst_string)\n",
        "    no_stpwords_string = \"\"\n",
        "    for i in lst_string:\n",
        "        if not i in stop_words:\n",
        "            no_stpwords_string += i + \" \"\n",
        "\n",
        "    no_stpwords_string = no_stpwords_string[:-1]\n",
        "\n",
        "    return no_stpwords_string"
      ],
      "metadata": {
        "id": "MN62Ep4fEtno"
      },
      "execution_count": null,
      "outputs": []
    },
    {
      "cell_type": "code",
      "source": [
        "txt = features.CONTENT\n",
        "\n",
        "print('sin normalizar:', txt[0], '\\n normalizado:', normalizar(txt[0]))"
      ],
      "metadata": {
        "colab": {
          "base_uri": "https://localhost:8080/"
        },
        "id": "3cdA--8wm09z",
        "outputId": "1353f0b3-422a-4796-bc62-013382ee7efb"
      },
      "execution_count": null,
      "outputs": [
        {
          "output_type": "stream",
          "name": "stdout",
          "text": [
            "sin normalizar: Huh, anyway check out this you[tube] channel: kobyoshi02 \n",
            " normalizado: huh anyway check youtube channel kobyoshi\n"
          ]
        }
      ]
    },
    {
      "cell_type": "code",
      "source": [
        "# Obtenemos la columna del texto con el que vamos a trabajar\n",
        "txt = features.CONTENT\n",
        "\n",
        "# Creamos una lista donde cada renglon es un comentario y lo normalizamos\n",
        "txt_clean = [normalizar(line) for line in txt]\n",
        "\n",
        "# Objeto listo para la implementación de Naive Bayes\n",
        "# txt_for_nb = list(zip(txt_clean, outputs))\n",
        "# print(txt_clean)"
      ],
      "metadata": {
        "id": "G6RlZw7YpAwK"
      },
      "execution_count": null,
      "outputs": []
    },
    {
      "cell_type": "markdown",
      "source": [
        "### Preprocesamiento para KNN"
      ],
      "metadata": {
        "id": "cPrTqnD8W9C8"
      }
    },
    {
      "cell_type": "code",
      "source": [
        "# Preprocesamiento para knn\n",
        "# Creamos un objeto CountVectorizer\n",
        "count_vect = CountVectorizer()\n",
        "\n",
        "# Creamos un vector donde se almacenan las cuentas de cada palabra\n",
        "x_counts = count_vect.fit_transform(np.array(txt_clean)) #list of texts, each text is a string\n",
        "print(x_counts.toarray())\n",
        "# # Creamos un objeto que transforma el conteo a probabilidades\n",
        "# tdfif_transformer = TfidfTransformer()\n",
        "# x_tfidf = tdfif_transformer.fit_transform(x_counts)\n",
        "\n",
        "# # Creamos un np.array de las salidas\n",
        "# y = np.asarray(outputs)"
      ],
      "metadata": {
        "id": "thY-E1TfWsaL",
        "colab": {
          "base_uri": "https://localhost:8080/"
        },
        "outputId": "f7e591b3-fa46-41aa-82f2-e123d5fc4929"
      },
      "execution_count": null,
      "outputs": [
        {
          "output_type": "stream",
          "name": "stdout",
          "text": [
            "[[0 0 0 ... 0 0 0]\n",
            " [0 0 0 ... 0 0 0]\n",
            " [0 0 0 ... 0 0 0]\n",
            " ...\n",
            " [0 0 0 ... 0 0 0]\n",
            " [0 0 0 ... 0 0 0]\n",
            " [0 0 0 ... 0 0 0]]\n"
          ]
        }
      ]
    },
    {
      "cell_type": "code",
      "source": [
        "# import collections\n",
        "\n",
        "# #Encontrar filas que sean solo de valroes 0, es decir \n",
        "# #que no tienen palabras.\n",
        "# data = x_counts.toarray()\n",
        "# nulo = np.zeros(len(data[0]))\n",
        "# for i, row in enumerate(data):\n",
        "#   if(collections.Counter(row)==collections.Counter(nulo)):\n",
        "#     print(f'Vacio_indice = {i}')\n",
        "#     #Eliminar campo y target\n",
        "#     data = np.delete(data, i)\n",
        "#     y = np.delete(y, i)\n",
        "\n",
        "#Encontramos que el indice 134 estaba vacio, fin."
      ],
      "metadata": {
        "id": "dS-ekUvAAAuh"
      },
      "execution_count": null,
      "outputs": []
    },
    {
      "cell_type": "markdown",
      "metadata": {
        "id": "5vVUcoAtA1dN"
      },
      "source": [
        "# Asignación 4\n",
        "\n",
        "Realice una visualización de los datos en dos dimensiones. Posteriormente entrene un modelo de KNN (utilizando la clase implementada anteriormente) y valide que su modelo generaliza bien."
      ]
    },
    {
      "cell_type": "code",
      "source": [
        "X_reduced = PCA(n_components=2).fit_transform(x_counts.toarray())\n",
        "fig, ax = plt.subplots()\n",
        "sns.scatterplot(\n",
        "    x = X_reduced[:, 0],\n",
        "    y = X_reduced[:, 1],    \n",
        "    hue = outputs\n",
        ")\n",
        "plt.title(\"PCA\")\n",
        "plt.legend()\n",
        "plt.xlim(-.1,0)\n",
        "plt.ylim(-0.5,1.5)\n",
        "fig.show()"
      ],
      "metadata": {
        "colab": {
          "base_uri": "https://localhost:8080/",
          "height": 452
        },
        "id": "ySIkFnLaEGCP",
        "outputId": "98806f8d-79ea-4d84-9369-3adc7419fe77"
      },
      "execution_count": null,
      "outputs": [
        {
          "output_type": "display_data",
          "data": {
            "text/plain": [
              "<Figure size 640x480 with 1 Axes>"
            ],
            "image/png": "[encoded data removed]"
          },
          "metadata": {}
        }
      ]
    },
    {
      "cell_type": "code",
      "source": [
        "X_reduced = PCA(n_components=2).fit_transform(x_counts.toarray())\n",
        "fig, ax = plt.subplots()\n",
        "sns.scatterplot(\n",
        "    x = X_reduced[:, 0],\n",
        "    y = X_reduced[:, 1],    \n",
        "    #hue = outputs\n",
        ")\n",
        "plt.title(\"PCA y KNN\")\n",
        "plt.legend()\n",
        "plt.xlim(-.1,0)\n",
        "plt.ylim(-0.5,1.5)\n",
        "fig.show()"
      ],
      "metadata": {
        "colab": {
          "base_uri": "https://localhost:8080/",
          "height": 489
        },
        "id": "k2qen5GmEFhE",
        "outputId": "b12ee38a-c4e1-4dae-d760-971495920e4c"
      },
      "execution_count": null,
      "outputs": [
        {
          "output_type": "stream",
          "name": "stderr",
          "text": [
            "WARNING:matplotlib.legend:No artists with labels found to put in legend.  Note that artists whose label start with an underscore are ignored when legend() is called with no argument.\n"
          ]
        },
        {
          "output_type": "display_data",
          "data": {
            "text/plain": [
              "<Figure size 640x480 with 1 Axes>"
            ],
            "image/png": "[encoded data removed]"
          },
          "metadata": {}
        }
      ]
    },
    {
      "cell_type": "code",
      "source": [
        "X_train, X_test, y_train, y_test = train_test_split(x_counts.toarray(), list(outputs), test_size=0.2, random_state=401)"
      ],
      "metadata": {
        "id": "8piWeRLxZiUV"
      },
      "execution_count": null,
      "outputs": []
    },
    {
      "cell_type": "code",
      "source": [
        "knn_cosine = KNN(X_train, y_train, k_nearest = 5, method = 'cosine')\n",
        "predicted = knn_cosine.predict(X_test)"
      ],
      "metadata": {
        "colab": {
          "base_uri": "https://localhost:8080/"
        },
        "id": "7Zwu6aTmCbFP",
        "outputId": "bcafebad-1805-41d4-95a3-3975d554cf6a"
      },
      "execution_count": null,
      "outputs": [
        {
          "output_type": "stream",
          "name": "stderr",
          "text": [
            "100%|██████████| 70/70 [00:00<00:00, 152.81it/s]\n"
          ]
        }
      ]
    },
    {
      "cell_type": "code",
      "source": [
        "#Matriz de confusión\n",
        "confusion_matrix = metrics.confusion_matrix(y_test, predicted)#, normalize = 'all'\n",
        "cm_display = metrics.ConfusionMatrixDisplay(confusion_matrix = confusion_matrix, display_labels = ['No Spam', 'Si Spam'])\n",
        "cm_display.plot()\n",
        "plt.show()\n",
        "\n",
        "#Métricas de error\n",
        "Sensitivity_recall = metrics.recall_score(y_test, predicted)\n",
        "Specificity = metrics.recall_score(y_test, predicted, pos_label=0)\n",
        "Accuracy = metrics.accuracy_score(y_test, predicted)\n",
        "Precision = metrics.precision_score(y_test, predicted)\n",
        "F1_score = metrics.f1_score(y_test, predicted)\n",
        "print(f\"Accuracy: {Accuracy},\\nPrecision :{Precision}, \\nSensitivity_recall:{Sensitivity_recall},\\nSpecificity:{Specificity},\\nF1_score:{F1_score}\")"
      ],
      "metadata": {
        "colab": {
          "base_uri": "https://localhost:8080/",
          "height": 536
        },
        "id": "0u7s5QlAWzhA",
        "outputId": "7cd4284c-7d55-4089-c2c1-6de06795ca81"
      },
      "execution_count": null,
      "outputs": [
        {
          "output_type": "display_data",
          "data": {
            "text/plain": [
              "<Figure size 640x480 with 2 Axes>"
            ],
            "image/png": "[encoded data removed]"
          },
          "metadata": {}
        },
        {
          "output_type": "stream",
          "name": "stdout",
          "text": [
            "Accuracy: 0.45714285714285713,\n",
            "Precision :0.5245901639344263, \n",
            "Sensitivity_recall:0.7804878048780488,\n",
            "Specificity:0.0,\n",
            "F1_score:0.627450980392157\n"
          ]
        }
      ]
    },
    {
      "cell_type": "code",
      "source": [
        "#Cross validation\n",
        "from sklearn.model_selection import KFold\n",
        "\n",
        "#10 pliegues\n",
        "kf = KFold(n_splits = 10)\n",
        "\n",
        "kf_accuracy = []\n",
        "kf_precision = []\n",
        "kf_recall = []\n",
        "kf_specificity = []\n",
        "kf_f1 = []\n",
        "\n",
        "#Obtener los indices por cada K_fold\n",
        "y_train = list(y_train) #Convertir de pd.Series a List\n",
        "for train, val in kf.split(X_train):\n",
        "  kf_x_train = []\n",
        "  kf_y_train = []\n",
        "\n",
        "  kf_x_val = []\n",
        "  kf_y_val = []\n",
        "\n",
        "  \n",
        "  #Train data\n",
        "  for index in train:\n",
        "    kf_x_train.append(X_train[int(index)]) #list\n",
        "    kf_y_train.append(y_train[int(index)]) #pandas series\n",
        "    \n",
        "  #Validation data\n",
        "  for index in val:\n",
        "    kf_x_val.append(X_train[int(index)])\n",
        "    kf_y_val.append(y_train[int(index)])\n",
        "\n",
        "  knn_cosine = KNN(kf_x_train, kf_y_train, k_nearest = 15, method = 'cosine')\n",
        "  predicted = knn_cosine.predict(kf_x_val)\n",
        "  \n",
        "  #metrics\n",
        "  Sensitivity_recall = metrics.recall_score(kf_y_val, predicted)\n",
        "  Specificity = metrics.recall_score(kf_y_val, predicted, pos_label=0)\n",
        "  Accuracy = metrics.accuracy_score(kf_y_val, predicted)\n",
        "  Precision = metrics.precision_score(kf_y_val, predicted)\n",
        "  F1_score = metrics.f1_score(kf_y_val, predicted)\n",
        "  \n",
        "  kf_accuracy.append(Accuracy)\n",
        "  kf_precision.append(Precision)\n",
        "  kf_recall.append(Sensitivity_recall)\n",
        "  kf_specificity.append(Specificity)\n",
        "  kf_f1.append(F1_score)\n",
        "\n",
        "print(f\"\\nCross_val_accuracy = {np.mean(kf_accuracy)}\")\n",
        "print(f\"Cross_val_precision = {np.mean(kf_precision)}\")\n",
        "print(f\"Cross_val_recall = {np.mean(kf_recall)}\")\n",
        "print(f\"Cross_val_specificity = {np.mean(kf_specificity)}\")\n",
        "print(f\"Cross_val_f1 = {np.mean(kf_f1)}\")"
      ],
      "metadata": {
        "colab": {
          "base_uri": "https://localhost:8080/"
        },
        "id": "9nahFDPzaVLo",
        "outputId": "c7a3b71d-f831-4112-8df3-79972398abfa"
      },
      "execution_count": null,
      "outputs": [
        {
          "output_type": "stream",
          "name": "stderr",
          "text": [
            "100%|██████████| 28/28 [00:00<00:00, 108.61it/s]\n",
            "100%|██████████| 28/28 [00:00<00:00, 111.31it/s]\n",
            "100%|██████████| 28/28 [00:00<00:00, 113.94it/s]\n",
            "100%|██████████| 28/28 [00:00<00:00, 149.63it/s]\n",
            "100%|██████████| 28/28 [00:00<00:00, 199.96it/s]\n",
            "100%|██████████| 28/28 [00:00<00:00, 171.88it/s]\n",
            "100%|██████████| 28/28 [00:00<00:00, 167.34it/s]\n",
            "100%|██████████| 28/28 [00:00<00:00, 188.10it/s]\n",
            "100%|██████████| 28/28 [00:00<00:00, 175.48it/s]\n",
            "100%|██████████| 27/27 [00:00<00:00, 174.14it/s]"
          ]
        },
        {
          "output_type": "stream",
          "name": "stdout",
          "text": [
            "\n",
            "Cross_val_accuracy = 0.42288359788359786\n",
            "Cross_val_precision = 0.4511353364831626\n",
            "Cross_val_recall = 0.8841329284750337\n",
            "Cross_val_specificity = 0.0\n",
            "Cross_val_f1 = 0.5868571565362323\n"
          ]
        },
        {
          "output_type": "stream",
          "name": "stderr",
          "text": [
            "\n"
          ]
        }
      ]
    },
    {
      "cell_type": "markdown",
      "metadata": {
        "id": "AaDbmKwDA1dO"
      },
      "source": [
        "# Asignación 5\n",
        "\n",
        "Entrene un modelo de Naive Bayes (utilizando la clase implementada anteriormente) y valide que su modelo generaliza bien."
      ]
    },
    {
      "cell_type": "code",
      "source": [
        "X_train, X_test, y_train, y_test = train_test_split(txt_clean, list(outputs), test_size=0.2, random_state=401)"
      ],
      "metadata": {
        "id": "Fwz2sxco5H1r"
      },
      "execution_count": null,
      "outputs": []
    },
    {
      "cell_type": "code",
      "execution_count": null,
      "metadata": {
        "id": "S5sIYLywA1dO",
        "colab": {
          "base_uri": "https://localhost:8080/",
          "height": 553
        },
        "outputId": "f848cbe7-5ea8-4d19-be62-1c7bde859344"
      },
      "outputs": [
        {
          "output_type": "stream",
          "name": "stderr",
          "text": [
            "Loading...: 100%|██████████| 2/2 [00:00<00:00, 636.13it/s]\n"
          ]
        },
        {
          "output_type": "display_data",
          "data": {
            "text/plain": [
              "<Figure size 640x480 with 2 Axes>"
            ],
            "image/png": "[encoded data removed]"
          },
          "metadata": {}
        },
        {
          "output_type": "stream",
          "name": "stdout",
          "text": [
            "Accuracy: 0.7857142857142857,\n",
            "Precision :0.9333333333333333, \n",
            "Sensitivity_recall:0.6829268292682927,\n",
            "Specificity:0.9310344827586207,\n",
            "F1_score:0.7887323943661972\n"
          ]
        }
      ],
      "source": [
        "model_NB = NaiveBayesClassifier()\n",
        "model_NB.train(list(zip(X_train, y_train)))\n",
        "predicted = model_NB.predict(X_test)\n",
        "\n",
        "#Matriz de confusión\n",
        "confusion_matrix = metrics.confusion_matrix(y_test, predicted)#, normalize = 'all'\n",
        "cm_display = metrics.ConfusionMatrixDisplay(confusion_matrix = confusion_matrix, display_labels = ['No Spam', 'Si Spam'])\n",
        "cm_display.plot()\n",
        "plt.show()\n",
        "\n",
        "#Métricas de error\n",
        "Sensitivity_recall = metrics.recall_score(y_test, predicted)\n",
        "Specificity = metrics.recall_score(y_test, predicted, pos_label=0)\n",
        "Accuracy = metrics.accuracy_score(y_test, predicted)\n",
        "Precision = metrics.precision_score(y_test, predicted)\n",
        "F1_score = metrics.f1_score(y_test, predicted)\n",
        "print(f\"Accuracy: {Accuracy},\\nPrecision :{Precision}, \\nSensitivity_recall:{Sensitivity_recall},\\nSpecificity:{Specificity},\\nF1_score:{F1_score}\")"
      ]
    },
    {
      "cell_type": "code",
      "source": [
        "#10 pliegues\n",
        "kf = KFold(n_splits = 10)\n",
        "\n",
        "kf_accuracy = []\n",
        "kf_precision = []\n",
        "kf_recall = []\n",
        "kf_specificity = []\n",
        "kf_f1 = []\n",
        "\n",
        "#Obtener los indices por cada K_fold\n",
        "y_train = list(y_train) #Convertir de pd.Series a List\n",
        "for train, val in kf.split(X_train):\n",
        "  kf_x_train = []\n",
        "  kf_y_train = []\n",
        "\n",
        "  kf_x_val = []\n",
        "  kf_y_val = []\n",
        "\n",
        "  \n",
        "  #Train data\n",
        "  for index in train:\n",
        "    kf_x_train.append(X_train[int(index)]) #list\n",
        "    kf_y_train.append(y_train[int(index)]) #pandas series\n",
        "    \n",
        "  #Validation data\n",
        "  for index in val:\n",
        "    kf_x_val.append(X_train[int(index)])\n",
        "    kf_y_val.append(y_train[int(index)])\n",
        "\n",
        "  model_NB = NaiveBayesClassifier()\n",
        "  model_NB.train(list(zip(kf_x_train, kf_y_train)))\n",
        "\n",
        "  predicted = model_NB.predict(kf_x_val)\n",
        "  \n",
        "  #metrics\n",
        "  Sensitivity_recall = metrics.recall_score(kf_y_val, predicted)\n",
        "  Specificity = metrics.recall_score(kf_y_val, predicted, pos_label=0)\n",
        "  Accuracy = metrics.accuracy_score(kf_y_val, predicted)\n",
        "  Precision = metrics.precision_score(kf_y_val, predicted)\n",
        "  F1_score = metrics.f1_score(kf_y_val, predicted)\n",
        "  \n",
        "  kf_accuracy.append(Accuracy)\n",
        "  kf_precision.append(Precision)\n",
        "  kf_recall.append(Sensitivity_recall)\n",
        "  kf_specificity.append(Specificity)\n",
        "  kf_f1.append(F1_score)\n",
        "\n",
        "print(f\"Cross_val_accuracy = {np.mean(kf_accuracy)}\")\n",
        "print(f\"Cross_val_precision = {np.mean(kf_precision)}\")\n",
        "print(f\"Cross_val_recall = {np.mean(kf_recall)}\")\n",
        "print(f\"Cross_val_specificity = {np.mean(kf_specificity)}\")\n",
        "print(f\"Cross_val_f1 = {np.mean(kf_f1)}\")"
      ],
      "metadata": {
        "colab": {
          "base_uri": "https://localhost:8080/"
        },
        "id": "4v3_9hAZfHeq",
        "outputId": "17d76292-f8c1-4de2-e40e-4dac9bb8eb5d"
      },
      "execution_count": null,
      "outputs": [
        {
          "output_type": "stream",
          "name": "stderr",
          "text": [
            "Loading...: 100%|██████████| 2/2 [00:00<00:00, 9248.74it/s]\n",
            "Loading...: 100%|██████████| 2/2 [00:00<00:00, 17154.62it/s]\n",
            "Loading...: 100%|██████████| 2/2 [00:00<00:00, 14169.95it/s]\n",
            "Loading...: 100%|██████████| 2/2 [00:00<00:00, 1940.46it/s]\n",
            "Loading...: 100%|██████████| 2/2 [00:00<00:00, 3088.59it/s]\n",
            "Loading...: 100%|██████████| 2/2 [00:00<00:00, 3283.21it/s]\n",
            "Loading...: 100%|██████████| 2/2 [00:00<00:00, 3176.30it/s]\n",
            "Loading...: 100%|██████████| 2/2 [00:00<00:00, 17660.23it/s]\n",
            "Loading...: 100%|██████████| 2/2 [00:00<00:00, 11667.05it/s]\n",
            "Loading...: 100%|██████████| 2/2 [00:00<00:00, 5489.93it/s]\n"
          ]
        },
        {
          "output_type": "stream",
          "name": "stdout",
          "text": [
            "Cross_val_accuracy = 0.8605820105820106\n",
            "Cross_val_precision = 0.9348076923076925\n",
            "Cross_val_recall = 0.7688021481442535\n",
            "Cross_val_specificity = 0.9492991528595244\n",
            "Cross_val_f1 = 0.8320096054548701\n"
          ]
        }
      ]
    }
  ],
  "metadata": {
    "kernelspec": {
      "display_name": "Python 3",
      "language": "python",
      "name": "python3"
    },
    "language_info": {
      "codemirror_mode": {
        "name": "ipython",
        "version": 3
      },
      "file_extension": ".py",
      "mimetype": "text/x-python",
      "name": "python",
      "nbconvert_exporter": "python",
      "pygments_lexer": "ipython3",
      "version": "3.8.11"
    },
    "colab": {
      "provenance": []
    }
  },
  "nbformat": 4,
  "nbformat_minor": 0
}